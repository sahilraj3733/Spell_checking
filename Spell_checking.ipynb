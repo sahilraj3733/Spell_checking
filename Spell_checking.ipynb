{
 "cells": [
  {
   "cell_type": "code",
   "execution_count": 1,
   "id": "09d09c8b-e7db-434c-bf65-6c103d7675ae",
   "metadata": {},
   "outputs": [],
   "source": [
    "import re\n",
    "import pandas as pd\n",
    "from tqdm import tqdm"
   ]
  },
  {
   "cell_type": "markdown",
   "id": "264c602c-292e-4ec9-a47b-f8ed98dcecc1",
   "metadata": {},
   "source": [
    "# Finding all Unique words"
   ]
  },
  {
   "cell_type": "code",
   "execution_count": 10,
   "id": "95ffae21-b08f-45ee-9c95-acb9c081bc4d",
   "metadata": {},
   "outputs": [
    {
     "name": "stdout",
     "output_type": "stream",
     "text": [
      "1115585\n",
      "32198\n"
     ]
    }
   ],
   "source": [
    "with open('big.txt','r') as fd:\n",
    "    lines=fd.readlines()\n",
    "    words=[]\n",
    "    for line in lines:\n",
    "        words+=re.findall(r'\\w+',line.lower())\n",
    "        \n",
    "print(len(words))\n",
    "vocab = list(set(words))\n",
    "print(len(vocab)) "
   ]
  },
  {
   "cell_type": "markdown",
   "id": "2fb92d72-830a-4da4-8f60-665a28e541b3",
   "metadata": {},
   "source": [
    "# Probability distrubtion"
   ]
  },
  {
   "cell_type": "code",
   "execution_count": 26,
   "id": "89aeb9d6-92a4-4873-81a8-3f7e72ec0106",
   "metadata": {},
   "outputs": [
    {
     "name": "stderr",
     "output_type": "stream",
     "text": [
      "100%|████████████████████████████████████████████████████████████████████████████| 32198/32198 [07:58<00:00, 67.28it/s]\n"
     ]
    }
   ],
   "source": [
    "word_prob={}\n",
    "for word in tqdm(vocab):\n",
    "    word_prob[word]=words.count(word)/len(words)"
   ]
  },
  {
   "cell_type": "markdown",
   "id": "71c1cac6-d5eb-4997-8cf2-310af98caa68",
   "metadata": {},
   "source": [
    "# Text Preprocessing"
   ]
  },
  {
   "cell_type": "markdown",
   "id": "ca3ef132-6edd-46e4-965d-3dfb952d4385",
   "metadata": {},
   "source": [
    "## Spliting"
   ]
  },
  {
   "cell_type": "code",
   "execution_count": 50,
   "id": "bf3f7db6-e38b-49f2-9aec-d00912ce16ba",
   "metadata": {},
   "outputs": [
    {
     "data": {
      "text/plain": [
       "[('', 'Raja'), ('R', 'aja'), ('Ra', 'ja'), ('Raj', 'a'), ('Raja', '')]"
      ]
     },
     "execution_count": 50,
     "metadata": {},
     "output_type": "execute_result"
    }
   ],
   "source": [
    "def split(word):\n",
    "    split_word=[]\n",
    "    for i in range(len(word)+1):\n",
    "        split_word+=[(word[:i],word[i:])]\n",
    "    return split_word\n",
    "split(\"Raja\")"
   ]
  },
  {
   "cell_type": "markdown",
   "id": "529bff91-8bf0-4c13-b0cf-58e35867032a",
   "metadata": {},
   "source": [
    "## Delete"
   ]
  },
  {
   "cell_type": "code",
   "execution_count": 74,
   "id": "3ff4573b-411b-42d8-b2bb-7c72e301c102",
   "metadata": {},
   "outputs": [],
   "source": [
    "\n",
    "def delete(word):\n",
    "    split_word=split(word)\n",
    "    output=[]\n",
    "    for i in split_word:\n",
    "        output.append(i[0]+i[1][1:])\n",
    "    return output\n"
   ]
  },
  {
   "cell_type": "code",
   "execution_count": 76,
   "id": "a08509ab-77c1-417a-a724-b3cfec9a0a65",
   "metadata": {},
   "outputs": [
    {
     "data": {
      "text/plain": [
       "['ave', 'lve', 'lae', 'lav', 'lave']"
      ]
     },
     "execution_count": 76,
     "metadata": {},
     "output_type": "execute_result"
    }
   ],
   "source": [
    "delete(\"lave\")"
   ]
  },
  {
   "cell_type": "markdown",
   "id": "7b17e5cd-7c77-4b26-a0d5-c7b078d88c16",
   "metadata": {},
   "source": [
    "## Swap"
   ]
  },
  {
   "cell_type": "code",
   "execution_count": 96,
   "id": "941d3ae4-e186-4273-b562-df0d495387f3",
   "metadata": {},
   "outputs": [],
   "source": [
    "def swap(word):\n",
    "    output=[]\n",
    "    split_word=split(word)\n",
    "    for l,r in split_word:\n",
    "        if len(r)>1:\n",
    "            output.append(l+r[1]+r[0]+r[2:])\n",
    "    return output"
   ]
  },
  {
   "cell_type": "code",
   "execution_count": 98,
   "id": "14da8da5-59bc-413f-902d-c668da52ed9d",
   "metadata": {},
   "outputs": [
    {
     "data": {
      "text/plain": [
       "['aLve', 'Lvae', 'Laev']"
      ]
     },
     "execution_count": 98,
     "metadata": {},
     "output_type": "execute_result"
    }
   ],
   "source": [
    "swap(\"Lave\")"
   ]
  },
  {
   "cell_type": "markdown",
   "id": "81eaf51a-0a90-4c8d-96a9-4da6fe91af27",
   "metadata": {},
   "source": [
    "## Replace"
   ]
  },
  {
   "cell_type": "code",
   "execution_count": 141,
   "id": "6177851b-8442-4c12-bddf-7baae9fe2fab",
   "metadata": {},
   "outputs": [],
   "source": [
    "def replace(word):\n",
    "    \n",
    "    split_word=split(word)\n",
    "    alphabates='abcdefghijklmnopqrstuvwxyz'\n",
    "    output=[]\n",
    "    for l,r in split_word:\n",
    "        for char in alphabates:\n",
    "            output.append(l+char+r[1:])\n",
    "    return output"
   ]
  },
  {
   "cell_type": "markdown",
   "id": "dd63bc55-b70a-425b-8646-1b3a84037184",
   "metadata": {},
   "source": [
    "len(replace(\"Lave\"))\n",
    "replace(\"lave\")"
   ]
  },
  {
   "cell_type": "markdown",
   "id": "4fa959bb-6e66-4a1d-a966-60991a2a5058",
   "metadata": {},
   "source": [
    "## Add "
   ]
  },
  {
   "cell_type": "code",
   "execution_count": 156,
   "id": "e9654488-2aae-432c-b86c-65ca35210289",
   "metadata": {},
   "outputs": [],
   "source": [
    "def insert(word):\n",
    "    \n",
    "    split_word=split(word)\n",
    "    alphabates='abcdefghijklmnopqrstuvwxyz'\n",
    "    output=[]\n",
    "    for l,r in split_word:\n",
    "        for char in alphabates:\n",
    "            output.append(l+char+r[0:])\n",
    "    return output"
   ]
  },
  {
   "cell_type": "code",
   "execution_count": 164,
   "id": "f792d3dc-f6a4-4aa3-a7a7-ea3cf8b51036",
   "metadata": {},
   "outputs": [
    {
     "data": {
      "text/plain": [
       "130"
      ]
     },
     "execution_count": 164,
     "metadata": {},
     "output_type": "execute_result"
    }
   ],
   "source": [
    "len(insert(\"Lave\"))"
   ]
  },
  {
   "cell_type": "markdown",
   "id": "0597ddbb-5292-48a5-b628-4a9228d335a7",
   "metadata": {},
   "source": [
    "# Finding the prediction (Level 1)"
   ]
  },
  {
   "cell_type": "markdown",
   "id": "b3a020c1-e0ce-4f28-832b-66c2430d1f96",
   "metadata": {},
   "source": [
    "## Combing the whole word"
   ]
  },
  {
   "cell_type": "code",
   "execution_count": 170,
   "id": "e56fbe00-6164-4665-9c80-0a7be35d5adc",
   "metadata": {},
   "outputs": [],
   "source": [
    "def edit(word):\n",
    "    return list(set(delete(word)+replace(word)+swap(word)+insert(word)))"
   ]
  },
  {
   "cell_type": "code",
   "execution_count": 172,
   "id": "7451252b-3f1c-42af-9a7d-fe47d2d61a90",
   "metadata": {},
   "outputs": [
    {
     "data": {
      "text/plain": [
       "236"
      ]
     },
     "execution_count": 172,
     "metadata": {},
     "output_type": "execute_result"
    }
   ],
   "source": [
    "len(edit(\"Lave\"))"
   ]
  },
  {
   "cell_type": "markdown",
   "id": "cfe7024b-7f45-4018-9283-bac600430a45",
   "metadata": {},
   "source": [
    "## Predication the word"
   ]
  },
  {
   "cell_type": "code",
   "execution_count": 235,
   "id": "261f1279-d271-4bdc-89f5-26a2b4c8f0e8",
   "metadata": {},
   "outputs": [],
   "source": [
    "def spell_checking_level_1(word,count=5):\n",
    "    \n",
    "    suggested_word=edit(word)\n",
    "    output=[]\n",
    "    for word in suggested_word:\n",
    "        if word in word_prob.keys():\n",
    "            output.append([word,word_prob[word]])\n",
    "    return  list(pd.DataFrame(output,columns=[\"word\",\"prob\"]).sort_values(by='prob',ascending=False).head(count)['word'].values)\n"
   ]
  },
  {
   "cell_type": "code",
   "execution_count": 237,
   "id": "c0ad00db-fc28-4a0b-af7b-d9dc2c1ee2ab",
   "metadata": {},
   "outputs": [
    {
     "data": {
      "text/plain": [
       "['have', 'love', 'gave', 'leave', 'late']"
      ]
     },
     "execution_count": 237,
     "metadata": {},
     "output_type": "execute_result"
    }
   ],
   "source": [
    "spell_checking_level_1(\"lave\")"
   ]
  },
  {
   "cell_type": "markdown",
   "id": "40bde54b-6013-4463-843d-354c0b57d636",
   "metadata": {},
   "source": [
    "# Finding the prediction (Level 2)"
   ]
  },
  {
   "cell_type": "code",
   "execution_count": 249,
   "id": "0f6d85df-0452-4a0e-8b23-ae5efb492667",
   "metadata": {},
   "outputs": [],
   "source": [
    "def spell_checking_level_2(word, count = 5):\n",
    "    \n",
    "    output = []\n",
    "    suggested_word= edit(word)       # Level one \n",
    "    \n",
    "    for e1 in edit(word):\n",
    "        suggested_word += edit(e1)    # Second Level \n",
    "    \n",
    "    suggested_word = list(set(suggested_word))\n",
    "    \n",
    "    for wrd in suggested_word:\n",
    "        if wrd in word_prob.keys():\n",
    "            output.append([wrd, word_prob[wrd]])\n",
    "    return list(pd.DataFrame(output, columns = ['word','prob']).sort_values(by = 'prob', ascending = False).head(count)['word'].values)\n"
   ]
  },
  {
   "cell_type": "code",
   "execution_count": 251,
   "id": "caa4ce14-92da-40c6-bcba-347d165b1488",
   "metadata": {},
   "outputs": [
    {
     "data": {
      "text/plain": [
       "['family', 'namely', 'fame', 'amelie', 'camel']"
      ]
     },
     "execution_count": 251,
     "metadata": {},
     "output_type": "execute_result"
    }
   ],
   "source": [
    "        \n",
    "spell_checking_level_2('fameli')"
   ]
  },
  {
   "cell_type": "code",
   "execution_count": null,
   "id": "c1c3bbb0-a619-4cba-b770-d37ae26a52ec",
   "metadata": {},
   "outputs": [],
   "source": []
  }
 ],
 "metadata": {
  "kernelspec": {
   "display_name": "Python 3 (ipykernel)",
   "language": "python",
   "name": "python3"
  },
  "language_info": {
   "codemirror_mode": {
    "name": "ipython",
    "version": 3
   },
   "file_extension": ".py",
   "mimetype": "text/x-python",
   "name": "python",
   "nbconvert_exporter": "python",
   "pygments_lexer": "ipython3",
   "version": "3.12.4"
  }
 },
 "nbformat": 4,
 "nbformat_minor": 5
}
